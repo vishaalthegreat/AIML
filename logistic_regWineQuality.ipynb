{
 "cells": [
  {
   "cell_type": "code",
   "execution_count": 54,
   "id": "44a6ebc3-d0c1-48bb-bbe8-a389444985cf",
   "metadata": {},
   "outputs": [],
   "source": [
    "data = pd.read_csv(\"/Users/vishaal/Downloads/winequalityN.csv\")\n",
    "\n",
    "#Drop rows with missing values\n",
    "data = data.dropna()\n",
    "\n",
    "#Define features (X) and target variable (y)\n",
    "y = data[\"type\"]\n",
    "X = data.drop(\"type\", axis=1)\n",
    "\n",
    "# Convert 'type' column to numeric values (0 or 1)\n",
    "y = (y == 'red').astype(int)\n"
   ]
  },
  {
   "cell_type": "code",
   "execution_count": 55,
   "id": "def02be3-e175-46c7-a0f6-335c032b524c",
   "metadata": {},
   "outputs": [],
   "source": [
    "data = data.dropna()\n",
    "data = data.loc[:, ~data.columns.str.contains('^Unnamed')]\n",
    "data = data.sample(frac = 1,random_state=69 ) #shuffling the dataframe\n",
    "data.reset_index(drop=True, inplace=True)"
   ]
  },
  {
   "cell_type": "code",
   "execution_count": 69,
   "id": "d00bf75e-3d57-40d5-95df-b52ea96ed91d",
   "metadata": {
    "tags": []
   },
   "outputs": [],
   "source": [
    "def train_test_split(X, y, test_size=0.2, random_state=None):\n",
    "    if random_state is not None:\n",
    "        np.random.seed(random_state)\n",
    "    n = len(y)\n",
    "    idx = np.random.permutation(n)\n",
    "    test_size = int(test_size * n)\n",
    "    b = idx[:test_size]\n",
    "    m = idx[test_size:]\n",
    "    Xt = X.iloc[m]\n",
    "    Xtest =X.iloc[b]\n",
    "    yt = y.iloc[m]\n",
    "    ytest=y.iloc[b]\n",
    "    return Xt, Xtest, yt, ytest\n",
    "# Train-test split\n",
    "X_train, X_test, y_train, y_test = train_test_split(X, y, test_size=0.2, random_state=42)"
   ]
  },
  {
   "cell_type": "code",
   "execution_count": 75,
   "id": "535a6fce-c335-4725-bf8f-21c585137ef3",
   "metadata": {
    "tags": []
   },
   "outputs": [],
   "source": [
    "# Feature scaling function\n",
    "def scale_features(X):\n",
    "    mean = np.mean(X, axis=0)\n",
    "    std = np.std(X, axis=0)\n",
    "    X_scaled = (X - mean) / std\n",
    "    return X_scaled\n",
    "\n",
    "def sigmoid(z):\n",
    "    return np.exp(z) / (1 + np.exp(z))\n",
    "X_train= scale_features(X_train)\n",
    "X_test = scale_features(X_test)\n"
   ]
  },
  {
   "cell_type": "code",
   "execution_count": 76,
   "id": "b5f62e46-6b26-40ec-b68a-f6fa8faebe71",
   "metadata": {
    "tags": []
   },
   "outputs": [],
   "source": [
    "# Gradient descent with regularization\n",
    "def gradient_descent_regularized(X, y, w, lr, iterations, lambda_):\n",
    "    m = len(y)\n",
    "    costs = []\n",
    "    for _ in range(iterations):\n",
    "        a= sigmoid(np.dot(X, w))\n",
    "        gradient = (np.dot(X.T, (a - y)) / m) + (lambda_ / m) * w\n",
    "        gradient[0] -= (lambda_ / m) * w[0]  # Exclude regularization for bias term\n",
    "        w -= lr * gradient\n",
    "        cost = cost_function(X, y, w)\n",
    "        costs.append(cost)\n",
    "    return w, costs\n",
    "\n",
    "\n"
   ]
  },
  {
   "cell_type": "code",
   "execution_count": 77,
   "id": "afdae013-a5a9-4296-a2b1-5c3850bb9e83",
   "metadata": {
    "tags": []
   },
   "outputs": [],
   "source": [
    "def logistic_regression_regularized(X, y, lr=0.01, iterations=1000, lambda_=0.01):\n",
    "    X = np.insert(X, 0, 1, axis=1)  # Add bias term\n",
    "    w = np.zeros(X.shape[1])\n",
    "    w, costs = gradient_descent_regularized(X, y, w, lr, iterations, lambda_)\n",
    "    return w, costs\n",
    "# Train the logistic regression model\n",
    "w, costs = logistic_regression_regularized(X_train, y_train, lr=0.01, iterations=1000, lambda_=0.01)\n",
    "\n",
    "\n"
   ]
  },
  {
   "cell_type": "code",
   "execution_count": 78,
   "id": "deac4de3-a552-49e4-8dac-9a4b0c8ae5c2",
   "metadata": {
    "tags": []
   },
   "outputs": [
    {
     "name": "stdout",
     "output_type": "stream",
     "text": [
      "Accuracy: 98.6076194159737\n"
     ]
    }
   ],
   "source": [
    "predictions = predict(X_train, w)\n",
    "\n",
    "# Calculate accuracy\n",
    "\n",
    "accuracy = np.mean(predictions == y_train)\n",
    "print(\"Accuracy:\", accuracy*100)"
   ]
  },
  {
   "cell_type": "code",
   "execution_count": 79,
   "id": "bcccfc8e-167b-4417-adf8-f37837c8a002",
   "metadata": {
    "tags": []
   },
   "outputs": [
    {
     "name": "stdout",
     "output_type": "stream",
     "text": [
      "Accuracy: 98.60681114551083\n"
     ]
    }
   ],
   "source": [
    "def predict(X, w):\n",
    "    X = np.insert(X, 0, 1, axis=1)\n",
    "    probs = sigmoid(np.dot(X, w))\n",
    "    predictions = (probs >= 0.5).astype(int)\n",
    "    return predictions\n",
    "# Make predictions on the test set\n",
    "predictions = predict(X_test, w)\n",
    "\n",
    "# Calculate accuracy\n",
    "\n",
    "accuracy = np.mean(predictions == y_test)\n",
    "print(\"Accuracy:\", accuracy*100)"
   ]
  },
  {
   "cell_type": "code",
   "execution_count": null,
   "id": "40cb873b-1830-480b-bc37-03e750544e00",
   "metadata": {},
   "outputs": [],
   "source": []
  }
 ],
 "metadata": {
  "kernelspec": {
   "display_name": "Python 3 (ipykernel)",
   "language": "python",
   "name": "python3"
  },
  "language_info": {
   "codemirror_mode": {
    "name": "ipython",
    "version": 3
   },
   "file_extension": ".py",
   "mimetype": "text/x-python",
   "name": "python",
   "nbconvert_exporter": "python",
   "pygments_lexer": "ipython3",
   "version": "3.11.5"
  }
 },
 "nbformat": 4,
 "nbformat_minor": 5
}
