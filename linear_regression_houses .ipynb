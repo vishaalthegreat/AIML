{
 "cells": [
  {
   "cell_type": "code",
   "execution_count": 1,
   "id": "a1dc1926-225c-4d1e-80fb-3e675aebeb7c",
   "metadata": {
    "tags": []
   },
   "outputs": [],
   "source": [
    "#linear reggresion\n",
    "import numpy as np\n",
    "import pandas as pd\n",
    "import matplotlib.pyplot as plt"
   ]
  },
  {
   "cell_type": "code",
   "execution_count": 3,
   "id": "02629db4-7037-4b50-85fe-21f2fd02ec69",
   "metadata": {
    "tags": []
   },
   "outputs": [
    {
     "data": {
      "text/html": [
       "<div>\n",
       "<style scoped>\n",
       "    .dataframe tbody tr th:only-of-type {\n",
       "        vertical-align: middle;\n",
       "    }\n",
       "\n",
       "    .dataframe tbody tr th {\n",
       "        vertical-align: top;\n",
       "    }\n",
       "\n",
       "    .dataframe thead th {\n",
       "        text-align: right;\n",
       "    }\n",
       "</style>\n",
       "<table border=\"1\" class=\"dataframe\">\n",
       "  <thead>\n",
       "    <tr style=\"text-align: right;\">\n",
       "      <th></th>\n",
       "      <th></th>\n",
       "      <th></th>\n",
       "      <th></th>\n",
       "      <th></th>\n",
       "      <th></th>\n",
       "      <th></th>\n",
       "      <th></th>\n",
       "      <th>RollNo</th>\n",
       "      <th>Name</th>\n",
       "      <th>CGPA</th>\n",
       "    </tr>\n",
       "  </thead>\n",
       "  <tbody>\n",
       "    <tr>\n",
       "      <th>OverallQual</th>\n",
       "      <th>GrLivArea</th>\n",
       "      <th>GarageCars</th>\n",
       "      <th>GarageArea</th>\n",
       "      <th>TotalBsmtSF</th>\n",
       "      <th>1stFlrSF</th>\n",
       "      <th>FullBath</th>\n",
       "      <th>TotRmsAbvGrd</th>\n",
       "      <td>YearBuilt</td>\n",
       "      <td>YearRemodAdd</td>\n",
       "      <td>SalePrice</td>\n",
       "    </tr>\n",
       "    <tr>\n",
       "      <th rowspan=\"2\" valign=\"top\">7</th>\n",
       "      <th>1820</th>\n",
       "      <th>1</th>\n",
       "      <th>240</th>\n",
       "      <th>1026</th>\n",
       "      <th>1133</th>\n",
       "      <th>2</th>\n",
       "      <th>8</th>\n",
       "      <td>1925</td>\n",
       "      <td>1950</td>\n",
       "      <td>184000</td>\n",
       "    </tr>\n",
       "    <tr>\n",
       "      <th>1646</th>\n",
       "      <th>1</th>\n",
       "      <th>240</th>\n",
       "      <th>918</th>\n",
       "      <th>918</th>\n",
       "      <th>2</th>\n",
       "      <th>7</th>\n",
       "      <td>1941</td>\n",
       "      <td>1950</td>\n",
       "      <td>164000</td>\n",
       "    </tr>\n",
       "    <tr>\n",
       "      <th>5</th>\n",
       "      <th>1316</th>\n",
       "      <th>2</th>\n",
       "      <th>484</th>\n",
       "      <th>926</th>\n",
       "      <th>926</th>\n",
       "      <th>1</th>\n",
       "      <th>6</th>\n",
       "      <td>1929</td>\n",
       "      <td>2001</td>\n",
       "      <td>130000</td>\n",
       "    </tr>\n",
       "    <tr>\n",
       "      <th>10</th>\n",
       "      <th>2402</th>\n",
       "      <th>3</th>\n",
       "      <th>672</th>\n",
       "      <th>3094</th>\n",
       "      <th>2402</th>\n",
       "      <th>2</th>\n",
       "      <th>10</th>\n",
       "      <td>2008</td>\n",
       "      <td>2008</td>\n",
       "      <td>555000</td>\n",
       "    </tr>\n",
       "  </tbody>\n",
       "</table>\n",
       "</div>"
      ],
      "text/plain": [
       "                                                                                           RollNo  \\\n",
       "OverallQual GrLivArea GarageCars GarageArea TotalBsmtSF 1stFlrSF FullBath TotRmsAbvGrd  YearBuilt   \n",
       "7           1820      1          240        1026        1133     2        8                  1925   \n",
       "            1646      1          240        918         918      2        7                  1941   \n",
       "5           1316      2          484        926         926      1        6                  1929   \n",
       "10          2402      3          672        3094        2402     2        10                 2008   \n",
       "\n",
       "                                                                                                Name  \\\n",
       "OverallQual GrLivArea GarageCars GarageArea TotalBsmtSF 1stFlrSF FullBath TotRmsAbvGrd  YearRemodAdd   \n",
       "7           1820      1          240        1026        1133     2        8                     1950   \n",
       "            1646      1          240        918         918      2        7                     1950   \n",
       "5           1316      2          484        926         926      1        6                     2001   \n",
       "10          2402      3          672        3094        2402     2        10                    2008   \n",
       "\n",
       "                                                                                             CGPA  \n",
       "OverallQual GrLivArea GarageCars GarageArea TotalBsmtSF 1stFlrSF FullBath TotRmsAbvGrd  SalePrice  \n",
       "7           1820      1          240        1026        1133     2        8                184000  \n",
       "            1646      1          240        918         918      2        7                164000  \n",
       "5           1316      2          484        926         926      1        6                130000  \n",
       "10          2402      3          672        3094        2402     2        10               555000  "
      ]
     },
     "execution_count": 3,
     "metadata": {},
     "output_type": "execute_result"
    }
   ],
   "source": [
    "data=pd.read_csv(\"/Users/vishaal/Desktop/important papers/train.csv\",header=None)\n",
    "data.head()"
   ]
  },
  {
   "cell_type": "code",
   "execution_count": 3,
   "id": "9d773fa6-4602-4225-8ba4-6effafe023e6",
   "metadata": {
    "tags": []
   },
   "outputs": [
    {
     "data": {
      "text/plain": [
       "OverallQual     0\n",
       "GrLivArea       0\n",
       "GarageCars      0\n",
       "GarageArea      0\n",
       "TotalBsmtSF     0\n",
       "1stFlrSF        0\n",
       "FullBath        0\n",
       "TotRmsAbvGrd    0\n",
       "YearBuilt       0\n",
       "YearRemodAdd    0\n",
       "SalePrice       0\n",
       "dtype: int64"
      ]
     },
     "execution_count": 3,
     "metadata": {},
     "output_type": "execute_result"
    }
   ],
   "source": [
    "#to check if there is any corrupt data\n",
    "data.isna().sum()"
   ]
  },
  {
   "cell_type": "code",
   "execution_count": 4,
   "id": "b6b86ed5-640f-4cab-806b-b9bd7660314b",
   "metadata": {
    "tags": []
   },
   "outputs": [],
   "source": [
    "data = data.sample(frac = 1,random_state=69 ) \n",
    "#shuffling the dataframe\n",
    "data.reset_index(drop=True, inplace=True)"
   ]
  },
  {
   "cell_type": "code",
   "execution_count": 7,
   "id": "ca2a3e95-4cb1-4cd3-b7a0-bd9d8cd0c5ff",
   "metadata": {
    "tags": []
   },
   "outputs": [
    {
     "data": {
      "text/html": [
       "<div>\n",
       "<style scoped>\n",
       "    .dataframe tbody tr th:only-of-type {\n",
       "        vertical-align: middle;\n",
       "    }\n",
       "\n",
       "    .dataframe tbody tr th {\n",
       "        vertical-align: top;\n",
       "    }\n",
       "\n",
       "    .dataframe thead th {\n",
       "        text-align: right;\n",
       "    }\n",
       "</style>\n",
       "<table border=\"1\" class=\"dataframe\">\n",
       "  <thead>\n",
       "    <tr style=\"text-align: right;\">\n",
       "      <th></th>\n",
       "      <th>OverallQual</th>\n",
       "      <th>GrLivArea</th>\n",
       "      <th>GarageCars</th>\n",
       "      <th>GarageArea</th>\n",
       "      <th>TotalBsmtSF</th>\n",
       "      <th>1stFlrSF</th>\n",
       "      <th>FullBath</th>\n",
       "      <th>TotRmsAbvGrd</th>\n",
       "      <th>YearBuilt</th>\n",
       "      <th>YearRemodAdd</th>\n",
       "      <th>SalePrice</th>\n",
       "    </tr>\n",
       "  </thead>\n",
       "  <tbody>\n",
       "    <tr>\n",
       "      <th>0</th>\n",
       "      <td>5</td>\n",
       "      <td>1052</td>\n",
       "      <td>1</td>\n",
       "      <td>288</td>\n",
       "      <td>1052</td>\n",
       "      <td>1052</td>\n",
       "      <td>1</td>\n",
       "      <td>5</td>\n",
       "      <td>1968</td>\n",
       "      <td>1968</td>\n",
       "      <td>138500</td>\n",
       "    </tr>\n",
       "    <tr>\n",
       "      <th>1</th>\n",
       "      <td>6</td>\n",
       "      <td>2555</td>\n",
       "      <td>2</td>\n",
       "      <td>672</td>\n",
       "      <td>588</td>\n",
       "      <td>1423</td>\n",
       "      <td>2</td>\n",
       "      <td>11</td>\n",
       "      <td>1922</td>\n",
       "      <td>1994</td>\n",
       "      <td>191000</td>\n",
       "    </tr>\n",
       "    <tr>\n",
       "      <th>2</th>\n",
       "      <td>5</td>\n",
       "      <td>1928</td>\n",
       "      <td>0</td>\n",
       "      <td>0</td>\n",
       "      <td>686</td>\n",
       "      <td>948</td>\n",
       "      <td>2</td>\n",
       "      <td>10</td>\n",
       "      <td>1916</td>\n",
       "      <td>1995</td>\n",
       "      <td>160000</td>\n",
       "    </tr>\n",
       "    <tr>\n",
       "      <th>3</th>\n",
       "      <td>7</td>\n",
       "      <td>1555</td>\n",
       "      <td>3</td>\n",
       "      <td>660</td>\n",
       "      <td>1373</td>\n",
       "      <td>1555</td>\n",
       "      <td>2</td>\n",
       "      <td>7</td>\n",
       "      <td>2007</td>\n",
       "      <td>2007</td>\n",
       "      <td>174000</td>\n",
       "    </tr>\n",
       "    <tr>\n",
       "      <th>4</th>\n",
       "      <td>7</td>\n",
       "      <td>1459</td>\n",
       "      <td>2</td>\n",
       "      <td>527</td>\n",
       "      <td>1459</td>\n",
       "      <td>1459</td>\n",
       "      <td>2</td>\n",
       "      <td>6</td>\n",
       "      <td>2002</td>\n",
       "      <td>2002</td>\n",
       "      <td>192000</td>\n",
       "    </tr>\n",
       "  </tbody>\n",
       "</table>\n",
       "</div>"
      ],
      "text/plain": [
       "   OverallQual  GrLivArea  GarageCars  GarageArea  TotalBsmtSF  1stFlrSF  \\\n",
       "0            5       1052           1         288         1052      1052   \n",
       "1            6       2555           2         672          588      1423   \n",
       "2            5       1928           0           0          686       948   \n",
       "3            7       1555           3         660         1373      1555   \n",
       "4            7       1459           2         527         1459      1459   \n",
       "\n",
       "   FullBath  TotRmsAbvGrd  YearBuilt  YearRemodAdd  SalePrice  \n",
       "0         1             5       1968          1968     138500  \n",
       "1         2            11       1922          1994     191000  \n",
       "2         2            10       1916          1995     160000  \n",
       "3         2             7       2007          2007     174000  \n",
       "4         2             6       2002          2002     192000  "
      ]
     },
     "execution_count": 7,
     "metadata": {},
     "output_type": "execute_result"
    }
   ],
   "source": [
    "data.head()"
   ]
  },
  {
   "cell_type": "code",
   "execution_count": 19,
   "id": "206fcdbc-6cb0-4403-8848-f2ec4babb816",
   "metadata": {
    "tags": []
   },
   "outputs": [],
   "source": [
    "X = data[['OverallQual','GrLivArea',\n",
    "          'GarageCars','GarageArea','TotalBsmtSF',\n",
    "          '1stFlrSF','FullBath','TotRmsAbvGrd','YearBuilt',\n",
    "         'YearRemodAdd']]\n",
    "    \n",
    "y = data['SalePrice']"
   ]
  },
  {
   "cell_type": "code",
   "execution_count": 20,
   "id": "766da6f4-32b8-4957-bebd-57e360d71070",
   "metadata": {
    "tags": []
   },
   "outputs": [],
   "source": [
    "mean_X = np.mean(X)\n",
    "mean_y = np.mean(y)"
   ]
  },
  {
   "cell_type": "code",
   "execution_count": 21,
   "id": "b70087ff-21a5-46a7-be7d-4094ea10d64a",
   "metadata": {
    "tags": []
   },
   "outputs": [],
   "source": [
    "coefficients = np.linalg.inv(X.T.dot(X)).dot(X.T).dot(y)"
   ]
  },
  {
   "cell_type": "code",
   "execution_count": 22,
   "id": "5919ee4b-3ba0-42be-a712-3b1207d60eeb",
   "metadata": {
    "tags": []
   },
   "outputs": [],
   "source": [
    "y_pred = X.dot(coefficients)"
   ]
  },
  {
   "cell_type": "code",
   "execution_count": 23,
   "id": "c3a16c9e-2829-4879-afe1-48be68e7ac0a",
   "metadata": {
    "tags": []
   },
   "outputs": [
    {
     "data": {
      "image/png": "[encoded data removed]",
      "text/plain": [
       "<Figure size 640x480 with 1 Axes>"
      ]
     },
     "metadata": {},
     "output_type": "display_data"
    }
   ],
   "source": [
    "plt.scatter(y, y_pred)\n",
    "plt.xlabel('Actual')\n",
    "plt.ylabel('Predicted')\n",
    "plt.title('Actual vs. Predicted')\n",
    "plt.show()"
   ]
  },
  {
   "cell_type": "code",
   "execution_count": 24,
   "id": "27902867-a181-4f48-92ac-0da1dfaaf1f5",
   "metadata": {
    "tags": []
   },
   "outputs": [],
   "source": [
    "# Mean Absolute Error (MAE)\n",
    "def mean_absolute_error(y_true, y_pred):\n",
    "    return np.mean(np.abs(y_true - y_pred))\n",
    "\n",
    "# Mean Squared Error (MSE)\n",
    "def mean_squared_error(y_true, y_pred):\n",
    "    return np.mean((y_true - y_pred)**2)\n",
    "\n",
    "# R-squared (R2) Score\n",
    "def r2_score(y_true, y_pred):\n",
    "    numerator = np.sum((y_true - y_pred)**2)\n",
    "    denominator = np.sum((y_true - np.mean(y_true))**2)\n",
    "    return 1 - (numerator / denominator)\n",
    "\n",
    "# Example usage:\n",
    "# Assuming y_true and y_pred are your true and predicted target values\n",
    "y_true = np.array([3, -0.5, 2, 7])\n",
    "y_pred = np.array([2.5, 0.0, 2, 8])\n",
    "\n",
    "mae = mean_absolute_error(y_true, y_pred)\n",
    "mse = mean_squared_error(y_true, y_pred)\n",
    "r2 = r2_score(y_true, y_pred)"
   ]
  },
  {
   "cell_type": "code",
   "execution_count": 25,
   "id": "c1e44835-2c1c-45ae-accc-51e69d4a0db3",
   "metadata": {
    "tags": []
   },
   "outputs": [
    {
     "name": "stdout",
     "output_type": "stream",
     "text": [
      "Mean Absolute Error: 0.5\n",
      "Mean Squared Error: 0.375\n",
      "R-squared Score: 0.9486081370449679\n"
     ]
    }
   ],
   "source": [
    "print(\"Mean Absolute Error:\", mae)\n",
    "print(\"Mean Squared Error:\", mse)\n",
    "print(\"R-squared Score:\", r2)"
   ]
  },
  {
   "cell_type": "code",
   "execution_count": null,
   "id": "7b4265e4-c72a-4315-8580-f2b8ccfaf626",
   "metadata": {},
   "outputs": [],
   "source": []
  }
 ],
 "metadata": {
  "kernelspec": {
   "display_name": "Python 3 (ipykernel)",
   "language": "python",
   "name": "python3"
  },
  "language_info": {
   "codemirror_mode": {
    "name": "ipython",
    "version": 3
   },
   "file_extension": ".py",
   "mimetype": "text/x-python",
   "name": "python",
   "nbconvert_exporter": "python",
   "pygments_lexer": "ipython3",
   "version": "3.11.5"
  }
 },
 "nbformat": 4,
 "nbformat_minor": 5
}
