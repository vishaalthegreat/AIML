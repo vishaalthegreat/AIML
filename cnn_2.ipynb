{
 "cells": [
  {
   "cell_type": "code",
   "execution_count": 77,
   "id": "52fbe430-09b5-4f39-a256-f8440968d793",
   "metadata": {},
   "outputs": [],
   "source": [
    "import tensorflow as tf\n",
    "from tensorflow.keras import layers, models\n",
    "import matplotlib.pyplot as plt\n",
    "import numpy as np\n",
    "import pandas as pd\n",
    "from sklearn.preprocessing import LabelEncoder"
   ]
  },
  {
   "cell_type": "code",
   "execution_count": 78,
   "id": "81a754bc-ae31-459b-a226-290567356afd",
   "metadata": {
    "tags": []
   },
   "outputs": [
    {
     "name": "stdout",
     "output_type": "stream",
     "text": [
      "          id       label\n",
      "0          1        frog\n",
      "1          2       truck\n",
      "2          3       truck\n",
      "3          4        deer\n",
      "4          5  automobile\n",
      "...      ...         ...\n",
      "49995  49996        bird\n",
      "49996  49997        frog\n",
      "49997  49998       truck\n",
      "49998  49999  automobile\n",
      "49999  50000  automobile\n",
      "\n",
      "[50000 rows x 2 columns]\n"
     ]
    },
    {
     "data": {
      "text/plain": [
       "10"
      ]
     },
     "execution_count": 78,
     "metadata": {},
     "output_type": "execute_result"
    }
   ],
   "source": [
    "images_folder=\"/Users/vishaal/Desktop/CODING/datasets/train\"\n",
    "image_labels=\"/Users/vishaal/Desktop/CODING/datasets/trainLabels.csv\"\n",
    "labels=pd.read_csv(image_labels)\n",
    "print(labels)\n",
    "#image_labels.describe\n",
    "labels['label'].nunique()#number of unique names used"
   ]
  },
  {
   "cell_type": "code",
   "execution_count": 79,
   "id": "573b684b-e767-425e-8f5f-bfaa020bb3dd",
   "metadata": {
    "tags": []
   },
   "outputs": [
    {
     "name": "stdout",
     "output_type": "stream",
     "text": [
      "frog\n",
      "truck\n",
      "deer\n",
      "automobile\n",
      "bird\n",
      "horse\n",
      "ship\n",
      "cat\n",
      "dog\n",
      "airplane\n"
     ]
    }
   ],
   "source": [
    "unique_names = labels['label'].unique()\n",
    "\n",
    "for name in unique_names:#to know what names have been used\n",
    "    print(name)"
   ]
  },
  {
   "cell_type": "code",
   "execution_count": 80,
   "id": "d3565fe8-baf4-4315-a109-1ddb6cedfece",
   "metadata": {
    "tags": []
   },
   "outputs": [],
   "source": [
    "#to read files with .png images\n",
    "import cv2\n",
    "import os"
   ]
  },
  {
   "cell_type": "code",
   "execution_count": 81,
   "id": "049ac455-7ae0-4682-b965-7f78ff81f574",
   "metadata": {
    "tags": []
   },
   "outputs": [
    {
     "name": "stdout",
     "output_type": "stream",
     "text": [
      "Number of images loaded: 50000\n"
     ]
    }
   ],
   "source": [
    "folder_path = \"/Users/vishaal/Desktop/CODING/datasets/train\"\n",
    "images = []\n",
    "for filename in os.listdir(folder_path):\n",
    "    if filename.endswith('.png'):\n",
    "        img_path = os.path.join(folder_path, filename)\n",
    "        img = cv2.imread(img_path)\n",
    "        if img is not None:\n",
    "            images.append(img)\n",
    "        else:\n",
    "            print(f\"Unable to read image: {img_path}\")\n",
    "    else:\n",
    "        print(f\"Skipping non-PNG file: {filename}\")\n",
    "\n",
    "print(f\"Number of images loaded: {len(images)}\")"
   ]
  },
  {
   "cell_type": "code",
   "execution_count": 82,
   "id": "b796d3db-2b34-4f96-9392-d44891bbae54",
   "metadata": {
    "tags": []
   },
   "outputs": [
    {
     "name": "stdout",
     "output_type": "stream",
     "text": [
      "(32, 32, 3)\n"
     ]
    }
   ],
   "source": [
    "print(images[0].shape)"
   ]
  },
  {
   "cell_type": "code",
   "execution_count": 83,
   "id": "f9d7ff21-8e5d-4875-b86f-e052d0f122a4",
   "metadata": {
    "tags": []
   },
   "outputs": [
    {
     "ename": "TypeError",
     "evalue": "unsupported operand type(s) for /: 'list' and 'float'",
     "output_type": "error",
     "traceback": [
      "\u001b[0;31m---------------------------------------------------------------------------\u001b[0m",
      "\u001b[0;31mTypeError\u001b[0m                                 Traceback (most recent call last)",
      "Cell \u001b[0;32mIn[83], line 1\u001b[0m\n\u001b[0;32m----> 1\u001b[0m images \u001b[38;5;241m=\u001b[39m images \u001b[38;5;241m/\u001b[39m \u001b[38;5;241m255.0\u001b[39m\n",
      "\u001b[0;31mTypeError\u001b[0m: unsupported operand type(s) for /: 'list' and 'float'"
     ]
    }
   ],
   "source": [
    "images = images / 255.0\n",
    "\n"
   ]
  },
  {
   "cell_type": "code",
   "execution_count": null,
   "id": "b7b00f63-9aea-4dc9-ab0b-a633316b2c2b",
   "metadata": {
    "tags": []
   },
   "outputs": [],
   "source": [
    "#labels.drop\n",
    "#labels.drop(['id'])\n",
    "labels.columns\n",
    "column_to_drop = 'id'\n",
    "if column_to_drop in labels.columns:\n",
    "    labels= labels.drop(columns=[column_to_drop])\n",
    "    print(f\"\\nDataFrame after dropping '{column_to_drop}' column:\")\n",
    "    print(labels)"
   ]
  },
  {
   "cell_type": "code",
   "execution_count": null,
   "id": "20f7e862-93cf-42bc-9252-42cc8241e004",
   "metadata": {
    "tags": []
   },
   "outputs": [],
   "source": [
    "plt.subplot(4,4,11)#last no changes the image others are for size\n",
    "plt.xticks([])#what is this for?dk\n",
    "plt.yticks([])\n",
    "plt.grid(False)\n",
    "plt.imshow(images[3], cmap=plt.cm.binary)\n",
    "plt.show()"
   ]
  },
  {
   "cell_type": "code",
   "execution_count": null,
   "id": "78e5f91b-8d82-42b1-9faf-9a3fa9dcebd8",
   "metadata": {
    "tags": []
   },
   "outputs": [],
   "source": [
    "labels = labels.values.ravel()  # Flatten labels to 1D array\n",
    "\n",
    "# Encode labels from strings to integers\n",
    "label_encoder = LabelEncoder()\n",
    "labels_encoded = label_encoder.fit_transform(labels)"
   ]
  },
  {
   "cell_type": "code",
   "execution_count": null,
   "id": "8d10cce8-ec75-4ca6-95f0-58a93906f59d",
   "metadata": {
    "tags": []
   },
   "outputs": [],
   "source": [
    "# Spliting the dataset \n",
    "num_samples = len(images)\n",
    "num_train_samples = int(num_samples * 0.8)\n",
    "x_train, x_test = images[:num_train_samples], images[num_train_samples:]\n",
    "y_train, y_test = labels_encoded[:num_train_samples], labels_encoded[num_train_samples:]"
   ]
  },
  {
   "cell_type": "code",
   "execution_count": null,
   "id": "c5675130-2351-4e47-8d48-984f6e4ec2d7",
   "metadata": {
    "tags": []
   },
   "outputs": [],
   "source": [
    "#print(x_train[0])\n",
    "x_train=np.array(x_train)\n",
    "x_test=np.array(x_test)"
   ]
  },
  {
   "cell_type": "code",
   "execution_count": null,
   "id": "ee446092-4c4e-4751-9b04-65bf6bfb0583",
   "metadata": {
    "tags": []
   },
   "outputs": [],
   "source": [
    "# Normalize pixel values to be between 0 and 1\n",
    "x_train = x_train / 255.0\n",
    "x_test = x_test / 255.0\n",
    "\n",
    "# Define the class names (assuming CIFAR-10 classes)\n",
    "class_names = label_encoder.classes_"
   ]
  },
  {
   "cell_type": "code",
   "execution_count": null,
   "id": "5113d9e2-a90f-4952-aef1-b0da8385fe2d",
   "metadata": {
    "tags": []
   },
   "outputs": [],
   "source": [
    "print(class_names)"
   ]
  },
  {
   "cell_type": "code",
   "execution_count": null,
   "id": "026adfc0-33b3-48e6-8fdf-f0a5f72a24f0",
   "metadata": {
    "tags": []
   },
   "outputs": [],
   "source": [
    "\n",
    "#plt.figure(figsize=(10, 10))\n",
    "#for i in range(25):\n",
    "#    plt.subplot(5, 5, i + 1)\n",
    "#    plt.xticks([])\n",
    "#    plt.yticks([])\n",
    "#    plt.grid(False)\n",
    "#    plt.imshow(x_train[i])\n",
    "#    plt.xlabel(class_names[y_train[i]])\n",
    "#plt.show()"
   ]
  },
  {
   "cell_type": "code",
   "execution_count": null,
   "id": "d0e8b5fb-3b9c-475e-932c-9d608b3464a2",
   "metadata": {
    "tags": []
   },
   "outputs": [],
   "source": [
    "# Build the CNN model\n",
    "model = models.Sequential([\n",
    "    layers.Conv2D(32, (3, 3), activation='relu', input_shape=(32, 32, 3)),\n",
    "    layers.MaxPooling2D((2, 2)),\n",
    "    layers.Conv2D(64, (3, 3), activation='relu'),\n",
    "    layers.MaxPooling2D((2, 2)),\n",
    "    layers.Conv2D(64, (3, 3), activation='relu'),\n",
    "    layers.Flatten(),\n",
    "    layers.Dense(64, activation='relu'),\n",
    "    layers.Dense(len(class_names))\n",
    "])"
   ]
  },
  {
   "cell_type": "code",
   "execution_count": null,
   "id": "656b86b8-7826-41b3-a11a-cbef8c3bd945",
   "metadata": {
    "tags": []
   },
   "outputs": [],
   "source": [
    "input_size=(28, 28, 1)\n",
    "inputs = layers.Input(input_size)\n",
    "conv1 = layers.Conv2D(32, (3, 3), activation='relu', padding='same')(inputs)\n",
    "print(conv1)\n",
    "conv1 = layers.Conv2D(32, (3, 3), activation='relu', padding='same')(conv1)\n",
    "conv2 = layers.Conv2D(1, (1, 1), activation='sigmoid')(conv1)\n",
    "modelt = models.Model(inputs=inputs, outputs=conv2)\n",
    "model.compile(optimizer='adam', loss='binary_crossentropy', metrics=['sparse_categorical_accuracy'])\n",
    "\n"
   ]
  },
  {
   "cell_type": "code",
   "execution_count": null,
   "id": "b9cae81b-af99-4bcb-91a8-cf20639ded78",
   "metadata": {
    "tags": []
   },
   "outputs": [],
   "source": [
    "# Compile the model\n",
    "model.compile(optimizer='adam',#optimizer = tf.keras.optimizers.Nadam(learning_rate=0.001)\n",
    "              loss=tf.keras.losses.SparseCategoricalCrossentropy(from_logits=True),\n",
    "              metrics=['accuracy'])"
   ]
  },
  {
   "cell_type": "code",
   "execution_count": null,
   "id": "f007e080-fe47-4f3d-af70-cca2ea8ad8e4",
   "metadata": {
    "tags": []
   },
   "outputs": [],
   "source": [
    "#transfer learning impliment it in cnn bad architecture, \n",
    "#unet or classification networks "
   ]
  },
  {
   "cell_type": "code",
   "execution_count": null,
   "id": "a09cd010-bd83-40a7-8989-b9aff9a8863f",
   "metadata": {},
   "outputs": [],
   "source": [
    "from tensorflow.keras.utils import to_categorical\n",
    "\n",
    "# One-hot encode your labels\n",
    "y_train_one_hot = to_categorical(y_train, num_classes=len(class_names))\n",
    "y_test_one_hot = to_categorical(y_test, num_classes=len(class_names))\n",
    "\n",
    "# Update the model's last layer and compilation step\n",
    "model = models.Sequential([\n",
    "    layers.Conv2D(32, (3, 3), activation='relu', input_shape=(32, 32, 3)),\n",
    "    layers.MaxPooling2D((2, 2)),\n",
    "    layers.Conv2D(64, (3, 3), activation='relu'),\n",
    "    layers.MaxPooling2D((2, 2)),\n",
    "    layers.Conv2D(128, (3, 3), activation='relu'),\n",
    "    layers.Flatten(),\n",
    "    layers.Dense(64, activation='relu'),\n",
    "    layers.Dense(len(class_names), activation='softmax')  # Use softmax here\n",
    "])\n",
    "\n",
    "# Compile the model\n",
    "model.compile(optimizer='adam',\n",
    "              loss=tf.keras.losses.CategoricalCrossentropy(),\n",
    "              metrics=['accuracy'])\n",
    "\n",
    "# Train the model\n",
    "history = model.fit(x_train, y_train_one_hot, epochs=10, validation_data=(x_test, y_test_one_hot))\n"
   ]
  },
  {
   "cell_type": "code",
   "execution_count": null,
   "id": "b2e3fbf6-ce7b-4c67-b77b-68fb66ce017a",
   "metadata": {
    "tags": []
   },
   "outputs": [],
   "source": [
    "from tensorflow.keras.optimizers import Adam\n",
    "from tensorflow.keras.initializers import HeNormal"
   ]
  },
  {
   "cell_type": "code",
   "execution_count": null,
   "id": "793be8b5-4821-4e0f-bc4d-928bd35466f4",
   "metadata": {},
   "outputs": [],
   "source": [
    "\n",
    "\n",
    "# Initialize the Sequential model\n",
    "model = models.Sequential()\n",
    "# Add the first convolutional layer\n",
    "model.add(layers.Conv2D(32, (3, 3), activation='relu', \n",
    "                        kernel_initializer=HeNormal(), \n",
    "                        input_shape=(32, 32, 3)))\n",
    "# Add the first pooling layer\n",
    "model.add(layers.MaxPooling2D((2, 2)))\n",
    "# Add the second convolutional layer\n",
    "model.add(layers.Conv2D(64, (3, 3), activation='relu'))\n",
    "# Add the second pooling layer\n",
    "model.add(layers.MaxPooling2D((2, 2)))\n",
    "# Add the third convolutional layer\n",
    "model.add(layers.Conv2D(64, (3, 3), activation='relu'))\n",
    "# Flatten the output\n",
    "model.add(layers.Flatten())\n",
    "# Add a fully connected (dense) layer\n",
    "model.add(layers.Dense(64, activation='relu'))\n",
    "# Add the output layer\n",
    "model.add(layers.Dense(10, activation='softmax'))  # Assuming 10 classes for classification\n",
    "# Compile the model\n",
    "model.compile(optimizer=Adam(learning_rate=0.001),\n",
    "              loss='categorical_crossentropy',\n",
    "              metrics=['categorical_accuracy'])\n",
    "\n",
    "# Summary of the model\n",
    "model.summary()\n"
   ]
  },
  {
   "cell_type": "code",
   "execution_count": null,
   "id": "04ed0e17-889b-44ae-a5f3-209030bdbb8f",
   "metadata": {
    "tags": []
   },
   "outputs": [],
   "source": [
    "history = model.fit(x_train, y_train_one_hot, epochs=3, validation_data=(x_test, y_test_one_hot))\n",
    "\n",
    "\n"
   ]
  },
  {
   "cell_type": "code",
   "execution_count": null,
   "id": "358a84a9-249c-4b9d-907a-eac09c999825",
   "metadata": {
    "tags": []
   },
   "outputs": [],
   "source": [
    "input_size=(32, 32, 3)\n",
    "inputs = layers.Input(input_size)\n",
    "\n",
    "print(inputs)"
   ]
  },
  {
   "cell_type": "code",
   "execution_count": null,
   "id": "975aca54-162c-4588-92d7-834cadda1474",
   "metadata": {
    "tags": []
   },
   "outputs": [],
   "source": [
    "conv1=layers.Conv2D(32, (3, 3), activation='relu', \n",
    "                        kernel_initializer=HeNormal(), \n",
    "                        input_shape=(32, 32, 3))\n",
    "conv1 = layers.Conv2D(32, (3, 3), activation='relu', padding='same')(conv1)\n",
    "conv2 = layers.Conv2D(1, (1, 1), activation='sigmoid')(conv1)\n",
    "model_unet = models.Model(inputs=inputs, outputs=conv2)\n",
    "model_unet.compile(optimizer='adam', loss='binary_crossentropy', metrics=['sparse_categorical_accuracy'])\n",
    "\n"
   ]
  },
  {
   "cell_type": "code",
   "execution_count": null,
   "id": "9c463a3d-c8d3-4fec-bac9-59e7fa708b35",
   "metadata": {
    "tags": []
   },
   "outputs": [],
   "source": [
    "\n",
    "model.fit(x_train, y_train_one_hot, epochs=3,\n",
    "          validation_data=(x_test, y_test_one_hot))\n",
    "\n",
    "\n"
   ]
  },
  {
   "cell_type": "code",
   "execution_count": null,
   "id": "231c27dc-d5a7-4103-9a64-3d008f278177",
   "metadata": {
    "tags": []
   },
   "outputs": [],
   "source": [
    "model = Sequential([\n",
    "    Conv2D(32, (3, 3), activation='relu', input_shape=(28, 28, 1)),\n",
    "    MaxPooling2D((2, 2)),\n",
    "    Conv2D(64, (3, 3), activation='relu'),\n",
    "    MaxPooling2D((2, 2)),\n",
    "    Flatten(),\n",
    "    Dense(128,   activation='relu'),\n",
    "    Dense(10,   activation='softmax')\n",
    "])\n",
    "\n",
    "# Compile the model\n",
    "model.compile(optimizer='adam',\n",
    "              loss='sparse_categorical_crossentropy',\n",
    "              metrics=['accuracy'])"
   ]
  },
  {
   "cell_type": "code",
   "execution_count": null,
   "id": "24daddec-2472-4483-8842-e6679565c55a",
   "metadata": {},
   "outputs": [],
   "source": []
  },
  {
   "cell_type": "code",
   "execution_count": null,
   "id": "48966cba-38b7-4b7c-bb0a-f28dba97b0fa",
   "metadata": {},
   "outputs": [],
   "source": []
  }
 ],
 "metadata": {
  "kernelspec": {
   "display_name": "Python 3 (ipykernel)",
   "language": "python",
   "name": "python3"
  },
  "language_info": {
   "codemirror_mode": {
    "name": "ipython",
    "version": 3
   },
   "file_extension": ".py",
   "mimetype": "text/x-python",
   "name": "python",
   "nbconvert_exporter": "python",
   "pygments_lexer": "ipython3",
   "version": "3.11.5"
  }
 },
 "nbformat": 4,
 "nbformat_minor": 5
}
