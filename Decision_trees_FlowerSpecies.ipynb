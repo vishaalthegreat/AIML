{
 "cells": [
  {
   "cell_type": "code",
   "execution_count": 119,
   "id": "1ec3f4bf-e849-4793-9a0d-25ff25e722db",
   "metadata": {
    "tags": []
   },
   "outputs": [],
   "source": [
    "import pandas as pd\n",
    "import numpy as np\n",
    "from sklearn.model_selection import train_test_split\n",
    "import matplotlib.pyplot as plt\n",
    "import math\n",
    "from collections import counter#this is to count majority class"
   ]
  },
  {
   "cell_type": "code",
   "execution_count": 169,
   "id": "8b02d27b-d8f9-430c-912e-35117179bd9b",
   "metadata": {
    "tags": []
   },
   "outputs": [],
   "source": [
    "class Node:\n",
    "    def __init__(self, gini, num_samples, num_samples_per_class, predicted_class):\n",
    "        self.gini = gini\n",
    "        self.num_samples = num_samples\n",
    "        self.num_samples_per_class = num_samples_per_class\n",
    "        self.predicted_class = predicted_class\n",
    "        self.feature_index = 0\n",
    "        self.threshold = 0\n",
    "        self.left = None\n",
    "        self.right = None"
   ]
  },
  {
   "cell_type": "code",
   "execution_count": 198,
   "id": "cfec8e92",
   "metadata": {
    "tags": []
   },
   "outputs": [
    {
     "name": "stdout",
     "output_type": "stream",
     "text": [
      "Predicted classes: [1, 0, 2, 1, 1, 0, 1, 2, 1, 1, 2, 0, 0, 0, 0, 1, 2, 1, 1, 2, 0, 2, 0, 2, 2, 2, 2, 2, 0, 0]\n",
      "Actual classes:    [1, 0, 2, 1, 1, 0, 1, 2, 1, 1, 2, 0, 0, 0, 0, 1, 2, 1, 1, 2, 0, 2, 0, 2, 2, 2, 2, 2, 0, 0]\n",
      "the accaracy of the model is 100.0%\n"
     ]
    }
   ],
   "source": [
    "\n",
    "\n",
    "def gini_impurity(y):\n",
    "    m = len(y)\n",
    "    return 1.0 - sum((np.sum(y == c) / m) ** 2 for c in np.unique(y)) #formula \n",
    "#weigthed sum of ech child(1 -(square od all probabilities))\n",
    "\n",
    "def split_dataset(X, y, index, threshold):\n",
    "    left_mask = X[:, index] < threshold\n",
    "    right_mask = X[:, index] >= threshold\n",
    "    return X[left_mask], X[right_mask], y[left_mask], y[right_mask]\n",
    "\n",
    "def grow_tree(X, y, depth=0, max_depth=None):\n",
    "    num_samples_per_class = {c: np.sum(y == c) for c in np.unique(y)}#assigning dictionary\n",
    "    predicted_class = max(num_samples_per_class, key=num_samples_per_class.get)\n",
    "    node = Node(\n",
    "        gini=gini_impurity(y),\n",
    "        num_samples=len(y),\n",
    "        num_samples_per_class=num_samples_per_class,\n",
    "        predicted_class=predicted_class,\n",
    "    )\n",
    "    \n",
    "    if depth < max_depth:\n",
    "        idx, thr = best_split(X, y)\n",
    "        if idx is not None:\n",
    "            X_left, X_right, y_left, y_right = split_dataset(X, y, idx, thr)\n",
    "            node.feature_index = idx\n",
    "            node.threshold = thr\n",
    "            node.left = grow_tree(X_left, y_left, depth + 1, max_depth)\n",
    "            node.right = grow_tree(X_right, y_right, depth + 1, max_depth)\n",
    "    \n",
    "    return node\n",
    "#we dexise best split condition(return idx and thresh)\n",
    "def best_split(X, y):\n",
    "    m_sample, n_features = X.shape\n",
    "    if m_sample<= 1:#2 or 3 gives less acc\n",
    "        return None, None\n",
    "    \n",
    "    num_parent = {c: np.sum(y == c) for c in np.unique(y)}#here i find the total number\n",
    "    #of repeats for each value[1,2,2,3,3]becomes{1:1,2:2,3:2} why do we use dictionaries\n",
    "    print(num_parent)\n",
    "    best_gini = 1.0 - sum((num / m_sample) ** 2 for num in num_parent.values())\n",
    "    best_idx, best_thr = None, None\n",
    "    \n",
    "    for idx in range(n):\n",
    "        thresholds, classes = zip(*sorted(zip(X[:, idx], y)))\n",
    "        num_left = {c: 0 for c in np.unique(y)}\n",
    "        num_right = num_parent.copy()\n",
    "        for i in range(1, m):\n",
    "            c = classes[i - 1]\n",
    "            num_left[c] += 1\n",
    "            num_right[c] -= 1\n",
    "            gini_left = 1.0 - sum((num_left[x] / i) ** 2 for x in num_left)\n",
    "            gini_right = 1.0 - sum((num_right[x] / (m_sample - i)) ** 2 for x in num_right)\n",
    "            gini = (i * gini_left + (m - i) * gini_right) / m_sample\n",
    "            if thresholds[i] == thresholds[i - 1]:\n",
    "                continue\n",
    "            if gini < best_gini:\n",
    "                best_gini = gini\n",
    "                best_idx = idx\n",
    "                best_thr = (thresholds[i] + thresholds[i - 1]) / 2\n",
    "                \n",
    "    return best_idx, best_thr\n",
    "#here we decide where the sample's leaf node os\n",
    "def predict_sample(node, sample):\n",
    "    if node.left is None and node.right is None:\n",
    "        return node.predicted_class\n",
    "    if sample[node.feature_index] < node.threshold:\n",
    "        return predict_sample(node.left, sample)\n",
    "    else:#sample[node.feature_index] >node.threshold\n",
    "        return predict_sample(node.right, sample)\n",
    "\n",
    "def predict(tree, X):\n",
    "    return [predict_sample(tree, sample) for sample in X]"
   ]
  },
  {
   "cell_type": "code",
   "execution_count": 202,
   "id": "9bcb6812-29f3-459c-a2f3-6385d42e5901",
   "metadata": {
    "tags": []
   },
   "outputs": [
    {
     "name": "stdout",
     "output_type": "stream",
     "text": [
      "{0: 35, 1: 37, 2: 28}\n",
      "{0: 35}\n",
      "{1: 37, 2: 28}\n",
      "{1: 32}\n",
      "{1: 5, 2: 28}\n",
      "the accaracy of the model is 90.0%\n"
     ]
    },
    {
     "data": {
      "text/plain": [
       "(150, 4)"
      ]
     },
     "execution_count": 202,
     "metadata": {},
     "output_type": "execute_result"
    }
   ],
   "source": [
    "#read data\n",
    "data=pd.read_csv(\"/Users/vishaal/Downloads/archive/Iris.csv\")\n",
    "\n",
    "# convert the data into X and output Y\n",
    "X=data.drop('Species',axis=1)\n",
    "X=X.drop('Id',axis=1)\n",
    "Y=data['Species']\n",
    "Y=Y.replace(\"Iris-setosa\",0)\n",
    "Y=Y.replace(\"Iris-versicolor\",1)\n",
    "Y=Y.replace(\"Iris-virginica\",2)\n",
    "data.isna().sum()#data has no nan values\n",
    "#data is clear everything is in numbers\n",
    "\n",
    "#convert the data into nummpy arrays\n",
    "X=X.values\n",
    "Y=Y.values\n",
    "#split the data\n",
    "X_train, X_test, y_train, y_test = train_test_split(X, y, test_size=0.33)\n",
    "#grow/generate decission tree\n",
    "tree = grow_tree(X_train, y_train, max_depth=3)\n",
    "#prdict values based on tree and X_test\n",
    "y_pred = predict(tree, X_test)\n",
    "def accuracy(list1, list2):\n",
    "    if len(list1) != len(list2):\n",
    "        raise ValueError(\"Lists must have the same length\")\n",
    "    \n",
    "    # Count matching elements\n",
    "    matches = sum(1 for x, y in zip(list1, list2) if x == y)\n",
    "    \n",
    "    # Calculate accuracy\n",
    "    accuracy = matches / len(list1)\n",
    "    return accuracy\n",
    "a=accuracy(y_test.tolist(),y_pred)#converting y-test into list\n",
    "print(f\"the accaracy of the model is {a*100}%\")\n",
    "X.shape"
   ]
  },
  {
   "cell_type": "code",
   "execution_count": null,
   "id": "cbf47252-6042-45d3-b691-211152e30189",
   "metadata": {},
   "outputs": [],
   "source": []
  }
 ],
 "metadata": {
  "kernelspec": {
   "display_name": "Python 3 (ipykernel)",
   "language": "python",
   "name": "python3"
  },
  "language_info": {
   "codemirror_mode": {
    "name": "ipython",
    "version": 3
   },
   "file_extension": ".py",
   "mimetype": "text/x-python",
   "name": "python",
   "nbconvert_exporter": "python",
   "pygments_lexer": "ipython3",
   "version": "3.11.5"
  }
 },
 "nbformat": 4,
 "nbformat_minor": 5
}
