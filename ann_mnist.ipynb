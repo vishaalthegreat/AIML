{
 "cells": [
  {
   "cell_type": "code",
   "execution_count": 16,
   "id": "a8c44435-068f-464f-8d70-7c808abfcbc9",
   "metadata": {
    "tags": []
   },
   "outputs": [],
   "source": [
    "path_test_x=\"/Users/vishaal/Downloads/archive-5/t10k-images.idx3-ubyte\"\n",
    "path_test_y=\"/Users/vishaal/Downloads/archive-5/t10k-labels.idx1-ubyte\"\n",
    "path_train_x=\"/Users/vishaal/Downloads/archive-5/train-images.idx3-ubyte\"\n",
    "path_train_y=\"/Users/vishaal/Downloads/archive-5/train-labels.idx1-ubyte\""
   ]
  },
  {
   "cell_type": "code",
   "execution_count": 17,
   "id": "ceea2771-ed8e-4b30-a672-e5a845bbd456",
   "metadata": {
    "tags": []
   },
   "outputs": [],
   "source": [
    "import struct\n",
    "# this library is used for dealing with binary data\n",
    "#will be using this after i convert the dat ain binary\n",
    "import pandas as pd\n",
    "import numpy as np"
   ]
  },
  {
   "cell_type": "code",
   "execution_count": 18,
   "id": "47139950-b56b-4033-8aa6-801ea14d4ca9",
   "metadata": {
    "tags": []
   },
   "outputs": [],
   "source": [
    "def load_mnist_images(filename):\n",
    "    with open(filename, 'rb') as f:#rb opens file to read in binary format\n",
    "        magic, num, rows, cols = struct.unpack('>IIII', f.read(16))\n",
    "        images = np.fromfile(f, dtype=np.uint8).reshape(num, rows, cols)\n",
    "    return images\n",
    "def load_mnist_labels(filename):\n",
    "    with open(filename, 'rb') as f:\n",
    "        magic, num = struct.unpack('>II', f.read(8))\n",
    "        labels = np.fromfile(f, dtype=np.uint8)\n",
    "    return labels\n",
    "def preprocess_data(images, labels):\n",
    "    images = images.reshape(images.shape[0], -1) / 255.0  # Normalize images\n",
    "    labels_one_hot = np.zeros((labels.size, labels.max() + 1))\n",
    "    labels_one_hot[np.arange(labels.size), labels] = 1 \n",
    "    return images, labels_one_hot"
   ]
  },
  {
   "cell_type": "code",
   "execution_count": 19,
   "id": "a3bc5efc-668d-4bf1-92b8-b6dd16b595b9",
   "metadata": {
    "tags": []
   },
   "outputs": [],
   "source": [
    "#load and convert data\n",
    "train_images=load_mnist_images(path_train_x)\n",
    "train_labels = load_mnist_labels(path_train_y)\n",
    "test_images = load_mnist_images(path_test_x)\n",
    "test_labels = load_mnist_labels(path_test_y)\n",
    "\n",
    "X_train, y_train = preprocess_data(train_images, train_labels)\n",
    "X_test, y_test= preprocess_data(test_images, test_labels)"
   ]
  },
  {
   "cell_type": "code",
   "execution_count": 38,
   "id": "a810565f-f39e-4a74-9907-0fbe73361e1f",
   "metadata": {
    "tags": []
   },
   "outputs": [
    {
     "name": "stdout",
     "output_type": "stream",
     "text": [
      "(60000, 784)\n",
      "(60000, 10)\n"
     ]
    },
    {
     "data": {
      "text/plain": [
       "(60000, 10)"
      ]
     },
     "execution_count": 38,
     "metadata": {},
     "output_type": "execute_result"
    }
   ],
   "source": [
    "print(X_train.shape)\n",
    "print(y_train.shape)#it is aldready hot encoded\n",
    "dat=pd.DataFrame(y_train)\n",
    "dat.dropna()\n",
    "dat.shape\n",
    "#no nan values"
   ]
  },
  {
   "cell_type": "code",
   "execution_count": 29,
   "id": "dae6d96d-e42c-49d3-80ad-d79d419c1777",
   "metadata": {
    "tags": []
   },
   "outputs": [
    {
     "data": {
      "text/plain": [
       "(60000, 784)"
      ]
     },
     "execution_count": 29,
     "metadata": {},
     "output_type": "execute_result"
    }
   ],
   "source": [
    "m,n=X_train.shape\n",
    "#we aldrady have devided data\n",
    "X_train.shape"
   ]
  },
  {
   "cell_type": "code",
   "execution_count": 30,
   "id": "e435d43a-e340-46d0-af05-a3c712e46718",
   "metadata": {
    "tags": []
   },
   "outputs": [
    {
     "name": "stdout",
     "output_type": "stream",
     "text": [
      "200\n"
     ]
    }
   ],
   "source": [
    "def one_hot_to_digit(one_hot):\n",
    "    return np.argmax(one_hot)\n",
    "#print(one_hot_to_digit(y_train[i]))\n",
    "yp=[]\n",
    "#print(y_train[0])\n",
    "#print(one_hot_to_digit(y_train[0]))\n",
    "for i in range(60000):\n",
    "    d=one_hot_to_digit(y_train[i])\n",
    "    yp.append(d)\n",
    "    if i ==200:\n",
    "        print(i)\n",
    "    "
   ]
  },
  {
   "cell_type": "code",
   "execution_count": 72,
   "id": "2fe647c0-4b27-49bd-ab45-9366073f056d",
   "metadata": {
    "tags": []
   },
   "outputs": [
    {
     "data": {
      "text/plain": [
       "1.8752320475322997"
      ]
     },
     "execution_count": 72,
     "metadata": {},
     "output_type": "execute_result"
    }
   ],
   "source": [
    "np.random.randn()"
   ]
  },
  {
   "cell_type": "code",
   "execution_count": 83,
   "id": "8020e503-1109-4f18-8b75-6250a08dd5d8",
   "metadata": {
    "tags": []
   },
   "outputs": [],
   "source": [
    "def ini_params():\n",
    "    w1=np.random.randn(10,784)*0.01#randn keeps the valoe in+-0.5 dont know how taht helps this is wrong\n",
    "    \n",
    "    b1=np.random.randn(10,1)*0.01#np.zeros((10,1))\n",
    "    w2=np.random.randn(10,10)*0.01\n",
    "    b2=np.random.randn(10,1)*0.01#np.zeros((10,1))#np.random.randn(10,1)*0.01\n",
    "    return w1,b1,w2,b2\n",
    "def one_hot_to_digit(one_hot):\n",
    "    return np.argmax(one_hot)\n",
    "def relu(x):\n",
    "    return np.maximum(0,x)\n",
    "def softmax(x):\n",
    "    x = x - np.max(x, axis=0, keepdims=True)  \n",
    "    return np.exp(x) / np.sum(np.exp(x), axis=0, keepdims=True)\n",
    "#def softmax(x):\n",
    "#    return np.exp(x)/np.sum(np.exp(x))\n",
    "def frwd_props(w1,b1,w2,b2,x):\n",
    "    z1=np.dot(w1,x.T)+b1#z1 is 10*784\n",
    "    a1=relu(z1)\n",
    "    z2=np.dot(w2,a1)+b2#10*784\n",
    "    a2=softmax(z2)#softmax gives the probs of the number, we will pridict no. with higest probs\n",
    "    return z1,z2,a1,a2\n",
    "def derv_relu(x):\n",
    "    return x>0#true or dalse so 1 0r 0\n",
    "def back_props(a2,a1,z1,w2,y,x):\n",
    "    dz2=a2-y.T#we use hot coded y itself\n",
    "    dw2=np.dot(dz2,a1.T)/784\n",
    "    db2=np.sum(dz2)/784\n",
    "    dz1=np.dot(w2.T,dz2)*derv_relu(z1)\n",
    "    dw1=np.dot(dz1,x)/784\n",
    "    db1=np.sum(dz1)/784\n",
    "    return dw1, db1,dw2,db2\n",
    "def update_params(w1,b1,w2,b2,dw1,db1,dw2,db2,alpha):\n",
    "    w2=w2-alpha*dw2\n",
    "    b2=b2-alpha*db2\n",
    "    w1=w1-alpha*dw1\n",
    "    b1=b1-alpha*db1\n",
    "    return w2,b2,w1,b1\n",
    "def gradient_descent(x,y,itterations,alpha):\n",
    "    w1,b1,w2,b2=ini_params()\n",
    "    for i in range(itterations):\n",
    "        z1,z2,a1,a2=frwd_props(w1,b1,w2,b2,x)\n",
    "        dw1,db1,dw2,db2=back_props(a2,a1,z1,w2,y,x)\n",
    "        w2,b2,w1,b1=update_params(w1,b1,w2,b2,dw1,db1,dw2,db2,alpha)\n",
    "        if i%100==0:\n",
    "            acc=accuracy(predictions(a2),yp)\n",
    "            print(\"itteration : \",i)\n",
    "            print(\"accuracy : \",acc*100)\n",
    "            \n",
    "    return w1,b1,w2,b2,a2\n",
    "def predictions(x):\n",
    "    return np.argmax(x,0)\n",
    "def accuracy(preds,y):\n",
    "    return np.sum(preds==y)/60000 \n"
   ]
  },
  {
   "cell_type": "code",
   "execution_count": 84,
   "id": "0cc6a003-5fa7-49ca-add1-ab19a0cc81fd",
   "metadata": {
    "tags": []
   },
   "outputs": [
    {
     "name": "stdout",
     "output_type": "stream",
     "text": [
      "itteration :  0\n",
      "accuracy :  10.216666666666667\n",
      "itteration :  100\n",
      "accuracy :  79.28833333333334\n",
      "itteration :  200\n",
      "accuracy :  89.69500000000001\n",
      "itteration :  300\n",
      "accuracy :  90.69666666666667\n",
      "itteration :  400\n",
      "accuracy :  91.51333333333334\n",
      "itteration :  500\n",
      "accuracy :  91.79\n",
      "itteration :  600\n",
      "accuracy :  92.16166666666666\n",
      "itteration :  700\n",
      "accuracy :  92.47666666666666\n",
      "itteration :  800\n",
      "accuracy :  92.70166666666667\n",
      "itteration :  900\n",
      "accuracy :  90.7\n",
      "accuracy :  92.04833333333333 %\n"
     ]
    }
   ],
   "source": [
    "w1,b1,w2,b2,a2=gradient_descent(X_train,y_train,1000,0.01)\n",
    "acc=accuracy(predictions(a2),yp)\n",
    "\n",
    "#f1 score\n",
    "\n",
    "print(\"accuracy : \",acc*100,\"%\")"
   ]
  }
 ],
 "metadata": {
  "kernelspec": {
   "display_name": "Python 3 (ipykernel)",
   "language": "python",
   "name": "python3"
  },
  "language_info": {
   "codemirror_mode": {
    "name": "ipython",
    "version": 3
   },
   "file_extension": ".py",
   "mimetype": "text/x-python",
   "name": "python",
   "nbconvert_exporter": "python",
   "pygments_lexer": "ipython3",
   "version": "3.11.5"
  }
 },
 "nbformat": 4,
 "nbformat_minor": 5
}
